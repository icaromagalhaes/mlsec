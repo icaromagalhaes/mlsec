{
 "cells": [
  {
   "cell_type": "code",
   "execution_count": 5,
   "id": "d11e7605",
   "metadata": {},
   "outputs": [],
   "source": [
    "import torch"
   ]
  },
  {
   "cell_type": "code",
   "execution_count": 6,
   "id": "ec069ee1",
   "metadata": {},
   "outputs": [],
   "source": [
    "input_img = torch.randn([1,10])"
   ]
  },
  {
   "cell_type": "code",
   "execution_count": 7,
   "id": "7ab9153d",
   "metadata": {},
   "outputs": [
    {
     "data": {
      "text/plain": [
       "tensor([[ 0.5803,  0.7803, -0.0305, -0.7599,  0.2355,  0.5078, -0.5101,  2.0663,\n",
       "          0.7625, -1.3193]])"
      ]
     },
     "execution_count": 7,
     "metadata": {},
     "output_type": "execute_result"
    }
   ],
   "source": [
    "input_img"
   ]
  },
  {
   "cell_type": "code",
   "execution_count": 8,
   "id": "d9b32262",
   "metadata": {},
   "outputs": [],
   "source": [
    "weights = torch.randn_like(input_img)"
   ]
  },
  {
   "cell_type": "code",
   "execution_count": 9,
   "id": "7073f0de",
   "metadata": {},
   "outputs": [
    {
     "data": {
      "text/plain": [
       "tensor([[-0.1836,  0.5832,  0.6117,  0.4274, -1.0078, -0.6821, -0.7279,  0.7862,\n",
       "          2.1351,  1.2384]])"
      ]
     },
     "execution_count": 9,
     "metadata": {},
     "output_type": "execute_result"
    }
   ],
   "source": [
    "weights"
   ]
  },
  {
   "cell_type": "code",
   "execution_count": 10,
   "id": "e11cfd6b",
   "metadata": {},
   "outputs": [],
   "source": [
    "bias = torch.randn([1,1])"
   ]
  },
  {
   "cell_type": "code",
   "execution_count": 11,
   "id": "0dfdd736",
   "metadata": {},
   "outputs": [
    {
     "data": {
      "text/plain": [
       "tensor([[2.1210]])"
      ]
     },
     "execution_count": 11,
     "metadata": {},
     "output_type": "execute_result"
    }
   ],
   "source": [
    "bias"
   ]
  },
  {
   "cell_type": "code",
   "execution_count": 12,
   "id": "0023cdcd",
   "metadata": {},
   "outputs": [
    {
     "data": {
      "text/plain": [
       "tensor(1.4114)"
      ]
     },
     "execution_count": 12,
     "metadata": {},
     "output_type": "execute_result"
    }
   ],
   "source": [
    "torch.sum(input_img * weights)"
   ]
  },
  {
   "cell_type": "code",
   "execution_count": 13,
   "id": "e7d47cf4",
   "metadata": {},
   "outputs": [],
   "source": [
    "output = torch.sum(input_img * weights) + bias"
   ]
  },
  {
   "cell_type": "code",
   "execution_count": 14,
   "id": "9813c257",
   "metadata": {},
   "outputs": [
    {
     "data": {
      "text/plain": [
       "tensor([[3.5325]])"
      ]
     },
     "execution_count": 14,
     "metadata": {},
     "output_type": "execute_result"
    }
   ],
   "source": [
    "output"
   ]
  },
  {
   "cell_type": "code",
   "execution_count": 15,
   "id": "52099446",
   "metadata": {},
   "outputs": [],
   "source": [
    "# activation function: sigmoid 01\n",
    "def sigmoid(x):\n",
    "    return 1/(1+torch.exp(-x))"
   ]
  },
  {
   "cell_type": "code",
   "execution_count": 16,
   "id": "97252091",
   "metadata": {},
   "outputs": [],
   "source": [
    "output = sigmoid(output)"
   ]
  },
  {
   "cell_type": "code",
   "execution_count": 17,
   "id": "ae7f0648",
   "metadata": {},
   "outputs": [
    {
     "data": {
      "text/plain": [
       "tensor([[0.9716]])"
      ]
     },
     "execution_count": 17,
     "metadata": {},
     "output_type": "execute_result"
    }
   ],
   "source": [
    "output"
   ]
  },
  {
   "cell_type": "code",
   "execution_count": null,
   "id": "f95212c9",
   "metadata": {},
   "outputs": [],
   "source": []
  }
 ],
 "metadata": {
  "kernelspec": {
   "display_name": "Python 3",
   "language": "python",
   "name": "python3"
  },
  "language_info": {
   "codemirror_mode": {
    "name": "ipython",
    "version": 3
   },
   "file_extension": ".py",
   "mimetype": "text/x-python",
   "name": "python",
   "nbconvert_exporter": "python",
   "pygments_lexer": "ipython3",
   "version": "3.9.4"
  }
 },
 "nbformat": 4,
 "nbformat_minor": 5
}
