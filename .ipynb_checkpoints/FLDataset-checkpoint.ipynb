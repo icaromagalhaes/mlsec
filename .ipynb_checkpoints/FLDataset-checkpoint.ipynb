{
 "cells": [
  {
   "cell_type": "code",
   "execution_count": 2,
   "id": "2e6e7e2c",
   "metadata": {},
   "outputs": [],
   "source": [
    "import torch\n",
    "from torchvision import datasets, transforms\n",
    "from torch.utils.data import DataLoader, Dataset\n",
    "import numpy as np"
   ]
  },
  {
   "cell_type": "code",
   "execution_count": 1,
   "id": "47a3c6e6",
   "metadata": {},
   "outputs": [],
   "source": [
    "def mnistIID(dataset, num_users):\n",
    "    num_images = int(len(dataset)/num_users)\n",
    "    users_dict, indeces = {}, [i for i in range(len(dataset))]\n",
    "    for i in range(num_users):\n",
    "        # to force the random to be the same, use a seed\n",
    "        # so that you can se the reflexion of new params and optimizers\n",
    "        np.random.seed(i)\n",
    "        # drop repeated items\n",
    "        users_dict[i] = set(np.random.choice(indeces, num_images, replace=False))\n",
    "        indeces = list(set(indeces) - users_dict[i])\n",
    "    return users_dict"
   ]
  },
  {
   "cell_type": "code",
   "execution_count": null,
   "id": "54dbefe0",
   "metadata": {},
   "outputs": [],
   "source": [
    "def mnistNonIID(dataset, num_users):\n",
    "    classes, images = 100, 600\n",
    "    classes_indx = [i for i in range(classes)]\n",
    "    users_dict = {i: np.array([]) for i in range(num_users)}\n",
    "    indeces = np.arrange(classes*images)\n",
    "    unsorted_labels = dataset.train_labels.numpy()\n",
    "\n",
    "    indeces_unlabels = np.vstack((indeces, unsorted_labels))\n",
    "    labels = indeces_unlabels[:, indeces_unlabels[1, :].argsort()]\n",
    "    indeces = labels[0, :]\n",
    "\n",
    "    for i in range(num_users):\n",
    "        # 2 classes\n",
    "        temp = set(np.random.choice(classes_indx, 2, replace=False))\n",
    "        # removing the added classes\n",
    "        classes_indx = list(set(classes_indx) - temp)\n",
    "\n",
    "        for i in temp:\n",
    "            users_dict[i] = np.concatenate(\n",
    "                (users_dict[i], indeces[t*images:(t+1)*images]), axis=0)\n",
    "\n",
    "    return users_dict"
   ]
  },
  {
   "cell_type": "code",
   "execution_count": 6,
   "id": "d9f0c7d5",
   "metadata": {},
   "outputs": [],
   "source": [
    "# since I will use only MNIST, will keep this function impure, tied, and hardcorded\n",
    "def load_dataset(num_users, iidtype):\n",
    "    # https://discuss.pytorch.org/t/normalization-in-the-mnist-example/457\n",
    "    # [14,1:12] for more on transforms\n",
    "    transform = transforms.Compose([transforms.ToTensor(), transforms.Normalize((0.1307,), (0.3081,))])\n",
    "\n",
    "    # change train and download params to match\n",
    "    train_dataset = datasets.MNIST(\"./data\", train=True, download=False, transform=transform)\n",
    "    test_dataset = datasets.MNIST(\"./data\", train=False, download=False, transform=transform)\n",
    "    \n",
    "    train_group, test_group = None, None\n",
    "    \n",
    "    if iidtype == 'iid':\n",
    "        train_group = mnistIID(train_dataset, num_users)\n",
    "        test_group = mnistIID(test_dataset, num_users)\n",
    "    elif iidtype == 'noniid':\n",
    "        train_group = mnistNonIID(train_dataset, num_users)\n",
    "        test_group = mnistNonIID(test_dataset, num_users)\n",
    "    else:\n",
    "        train_group = None # FIXME\n",
    "        test_group = None # FIXME\n",
    "\n",
    "    return train_dataset, test_dataset, train_group, test_group"
   ]
  },
  {
   "cell_type": "code",
   "execution_count": 4,
   "id": "f7681456",
   "metadata": {},
   "outputs": [],
   "source": [
    "class FedDataset(Dataset):\n",
    "    def __init__(self, dataset, indx):\n",
    "        self.dataset = dataset\n",
    "        self.indx = [int(i) for i in indx]\n",
    "    \n",
    "    def __len__(self):\n",
    "        return len(self.indx)\n",
    "    \n",
    "    def __getitem__(self, item):\n",
    "        images, label = self.dataset[self.indx[item]]\n",
    "        return torch.tensor(images), torch.tensor(label)"
   ]
  },
  {
   "cell_type": "code",
   "execution_count": 5,
   "id": "d6dced49",
   "metadata": {},
   "outputs": [],
   "source": [
    "def getActualImages(dataset, indeces, batch_size):\n",
    "    return DataLoader(FedDataset(dataset, indeces), batch_size=batch_size, shuffle=True)"
   ]
  },
  {
   "cell_type": "code",
   "execution_count": null,
   "id": "352fc652",
   "metadata": {},
   "outputs": [],
   "source": []
  }
 ],
 "metadata": {
  "kernelspec": {
   "display_name": "Python 3 (ipykernel)",
   "language": "python",
   "name": "python3"
  },
  "language_info": {
   "codemirror_mode": {
    "name": "ipython",
    "version": 3
   },
   "file_extension": ".py",
   "mimetype": "text/x-python",
   "name": "python",
   "nbconvert_exporter": "python",
   "pygments_lexer": "ipython3",
   "version": "3.8.12"
  }
 },
 "nbformat": 4,
 "nbformat_minor": 5
}
