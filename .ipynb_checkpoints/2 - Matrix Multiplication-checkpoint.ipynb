{
 "cells": [
  {
   "cell_type": "code",
   "execution_count": 2,
   "id": "d11e7605",
   "metadata": {},
   "outputs": [],
   "source": [
    "import torch"
   ]
  },
  {
   "cell_type": "code",
   "execution_count": 3,
   "id": "ec069ee1",
   "metadata": {},
   "outputs": [],
   "source": [
    "input_img = torch.randn([1,10])"
   ]
  },
  {
   "cell_type": "code",
   "execution_count": 4,
   "id": "7ab9153d",
   "metadata": {},
   "outputs": [
    {
     "data": {
      "text/plain": [
       "tensor([[ 1.0378, -2.5470,  0.0192,  0.5376, -0.7009,  1.7684, -0.6898,  1.0698,\n",
       "         -1.1768,  1.5831]])"
      ]
     },
     "execution_count": 4,
     "metadata": {},
     "output_type": "execute_result"
    }
   ],
   "source": [
    "input_img"
   ]
  },
  {
   "cell_type": "code",
   "execution_count": 5,
   "id": "d9b32262",
   "metadata": {},
   "outputs": [],
   "source": [
    "weights = torch.randn_like(input_img)"
   ]
  },
  {
   "cell_type": "code",
   "execution_count": 6,
   "id": "7073f0de",
   "metadata": {},
   "outputs": [
    {
     "data": {
      "text/plain": [
       "tensor([[-0.2997, -2.6875, -0.3815,  0.9115, -0.4368,  0.4132, -1.4378, -1.0191,\n",
       "         -2.6499,  0.7148]])"
      ]
     },
     "execution_count": 6,
     "metadata": {},
     "output_type": "execute_result"
    }
   ],
   "source": [
    "weights"
   ]
  },
  {
   "cell_type": "code",
   "execution_count": 7,
   "id": "e11cfd6b",
   "metadata": {},
   "outputs": [],
   "source": [
    "bias = torch.randn([1,1])"
   ]
  },
  {
   "cell_type": "code",
   "execution_count": 8,
   "id": "0dfdd736",
   "metadata": {},
   "outputs": [
    {
     "data": {
      "text/plain": [
       "tensor([[-0.7055]])"
      ]
     },
     "execution_count": 8,
     "metadata": {},
     "output_type": "execute_result"
    }
   ],
   "source": [
    "bias"
   ]
  },
  {
   "cell_type": "code",
   "execution_count": 9,
   "id": "e7d47cf4",
   "metadata": {},
   "outputs": [],
   "source": [
    "output = torch.mm(input_img, weights.view(10, 1)) + bias"
   ]
  },
  {
   "cell_type": "code",
   "execution_count": 10,
   "id": "9813c257",
   "metadata": {},
   "outputs": [
    {
     "data": {
      "text/plain": [
       "tensor([[11.4999]])"
      ]
     },
     "execution_count": 10,
     "metadata": {},
     "output_type": "execute_result"
    }
   ],
   "source": [
    "output"
   ]
  },
  {
   "cell_type": "code",
   "execution_count": 11,
   "id": "52099446",
   "metadata": {},
   "outputs": [],
   "source": [
    "# activation function: sigmoid 01\n",
    "def sigmoid(x):\n",
    "    return 1/(1+torch.exp(-x))"
   ]
  },
  {
   "cell_type": "code",
   "execution_count": 12,
   "id": "97252091",
   "metadata": {},
   "outputs": [],
   "source": [
    "output = sigmoid(output)"
   ]
  },
  {
   "cell_type": "code",
   "execution_count": 13,
   "id": "ae7f0648",
   "metadata": {},
   "outputs": [
    {
     "data": {
      "text/plain": [
       "tensor([[1.0000]])"
      ]
     },
     "execution_count": 13,
     "metadata": {},
     "output_type": "execute_result"
    }
   ],
   "source": [
    "output"
   ]
  },
  {
   "cell_type": "code",
   "execution_count": null,
   "id": "f95212c9",
   "metadata": {},
   "outputs": [],
   "source": []
  }
 ],
 "metadata": {
  "kernelspec": {
   "display_name": "Python 3",
   "language": "python",
   "name": "python3"
  },
  "language_info": {
   "codemirror_mode": {
    "name": "ipython",
    "version": 3
   },
   "file_extension": ".py",
   "mimetype": "text/x-python",
   "name": "python",
   "nbconvert_exporter": "python",
   "pygments_lexer": "ipython3",
   "version": "3.9.4"
  }
 },
 "nbformat": 4,
 "nbformat_minor": 5
}
