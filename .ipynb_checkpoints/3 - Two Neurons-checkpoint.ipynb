{
 "cells": [
  {
   "cell_type": "code",
   "execution_count": 3,
   "id": "72b2241d",
   "metadata": {},
   "outputs": [],
   "source": [
    "import torch"
   ]
  },
  {
   "cell_type": "code",
   "execution_count": 4,
   "id": "2cef4bf7",
   "metadata": {},
   "outputs": [],
   "source": [
    "def sigmoid(x):\n",
    "    return 1/(1+torch.exp(-x))"
   ]
  },
  {
   "cell_type": "code",
   "execution_count": 5,
   "id": "d0432a71",
   "metadata": {},
   "outputs": [],
   "source": [
    "input_img = torch.randn((1,3))"
   ]
  },
  {
   "cell_type": "code",
   "execution_count": 6,
   "id": "a8552cd9",
   "metadata": {},
   "outputs": [],
   "source": [
    "# keeping track of\n",
    "inputs_count = input_img.shape[1]\n",
    "neurons_count = 2\n",
    "outputs_count = 1"
   ]
  },
  {
   "cell_type": "code",
   "execution_count": 7,
   "id": "1e323a55",
   "metadata": {},
   "outputs": [],
   "source": [
    "weights_set_1 = torch.randn((inputs_count, neurons_count))\n",
    "weights_set_2 = torch.randn((neurons_count, outputs_count))"
   ]
  },
  {
   "cell_type": "code",
   "execution_count": 8,
   "id": "84a451c9",
   "metadata": {},
   "outputs": [],
   "source": [
    "bias_1 = torch.randn((1, neurons_count))\n",
    "bias_2 = torch.randn((1, outputs_count))"
   ]
  },
  {
   "cell_type": "code",
   "execution_count": 9,
   "id": "4f5ca085",
   "metadata": {},
   "outputs": [],
   "source": [
    "hidden_layer_output = torch.mm(input_img, weights_set_1) + bias_1\n",
    "hidden_layer_output = sigmoid(hidden_layer_output)\n",
    "\n",
    "final_output = torch.mm(hidden_layer_output, weights_set_2) + bias_2\n",
    "final_output = sigmoid(final_output)"
   ]
  },
  {
   "cell_type": "code",
   "execution_count": 10,
   "id": "94cbcafb",
   "metadata": {},
   "outputs": [
    {
     "data": {
      "text/plain": [
       "tensor([[0.4994]])"
      ]
     },
     "execution_count": 10,
     "metadata": {},
     "output_type": "execute_result"
    }
   ],
   "source": [
    "final_output"
   ]
  }
 ],
 "metadata": {
  "kernelspec": {
   "display_name": "Python 3",
   "language": "python",
   "name": "python3"
  },
  "language_info": {
   "codemirror_mode": {
    "name": "ipython",
    "version": 3
   },
   "file_extension": ".py",
   "mimetype": "text/x-python",
   "name": "python",
   "nbconvert_exporter": "python",
   "pygments_lexer": "ipython3",
   "version": "3.9.4"
  }
 },
 "nbformat": 4,
 "nbformat_minor": 5
}
