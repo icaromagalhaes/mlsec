{
 "cells": [
  {
   "cell_type": "code",
   "execution_count": 1,
   "id": "bf68dea6",
   "metadata": {},
   "outputs": [],
   "source": [
    "import torch, torchvision\n",
    "from torchvision import transforms\n",
    "import matplotlib.pyplot as plt\n",
    "\n",
    "from torch import nn, optim"
   ]
  },
  {
   "cell_type": "code",
   "execution_count": 2,
   "id": "daddfea1",
   "metadata": {},
   "outputs": [],
   "source": [
    "# refer to previous notebooks to details\n",
    "transform = transforms.Compose([transforms.ToTensor()])\n",
    "trainset = torchvision.datasets.MNIST(root=\"./data\", train=True, transform=transform, download=True)\n",
    "trainloader = torch.utils.data.DataLoader(trainset, batch_size=64, shuffle=True)"
   ]
  },
  {
   "cell_type": "code",
   "execution_count": 3,
   "id": "92e7393f",
   "metadata": {},
   "outputs": [],
   "source": [
    "class Net(nn.Module):\n",
    "    def __init__(self):\n",
    "        super().__init__()\n",
    "        # use a linear layer, please refer to docs to understand params\n",
    "        self.hidden = nn.Linear(28*28, 512)\n",
    "        # output layer's input should match hidden layer's output (512)\n",
    "        # mnist contains 10 classes. thats why output is 10\n",
    "        self.output = nn.Linear(512, 10)\n",
    "        \n",
    "        # we will use softmax activation function to give probability distributed across K classes\n",
    "        # softmax is gonna be activation funciton for the output layer\n",
    "        # while sigmoid is gonna be used for hidden layers \n",
    "\n",
    "        # lets use the imported sigmoid from nn module\n",
    "        self.sigmoid = nn.Sigmoid()\n",
    "        \n",
    "        # refer to LogSoftmax docs to understand difference from Softmax and dim parameter\n",
    "        self.softmax = nn.LogSoftmax(dim=1)\n",
    "    \n",
    "    def forward(self, x):\n",
    "        # just thread last x on activation functions\n",
    "        x = self.hidden(x)\n",
    "        # pipe the output of the hidden in the sigmoid activation function\n",
    "        x = self.sigmoid(x)\n",
    "        x = self.output(x)\n",
    "        x = self.softmax(x)\n",
    "        \n",
    "        return x"
   ]
  },
  {
   "cell_type": "code",
   "execution_count": 5,
   "id": "493dd70e",
   "metadata": {},
   "outputs": [],
   "source": [
    "model = Net()"
   ]
  },
  {
   "cell_type": "code",
   "execution_count": 6,
   "id": "f20070d2",
   "metadata": {},
   "outputs": [
    {
     "data": {
      "text/plain": [
       "Net(\n",
       "  (hidden): Linear(in_features=784, out_features=512, bias=True)\n",
       "  (output): Linear(in_features=512, out_features=10, bias=True)\n",
       "  (sigmoid): Sigmoid()\n",
       "  (softmax): LogSoftmax(dim=1)\n",
       ")"
      ]
     },
     "execution_count": 6,
     "metadata": {},
     "output_type": "execute_result"
    }
   ],
   "source": [
    "model"
   ]
  },
  {
   "cell_type": "code",
   "execution_count": 8,
   "id": "84be9a90",
   "metadata": {},
   "outputs": [
    {
     "name": "stdout",
     "output_type": "stream",
     "text": [
      "The running loss is: 2.0915346334992186\n",
      "The running loss is: 1.4585676632964535\n",
      "The running loss is: 0.9606050949361025\n",
      "The running loss is: 0.7250438460281917\n",
      "The running loss is: 0.6050712338833413\n"
     ]
    }
   ],
   "source": [
    "# to calculate the loss, follow the pytorch convention (criterion)\n",
    "criterion = nn.NLLLoss()\n",
    "# optimizer now goes after the loss\n",
    "optimizer = optim.SGD(model.parameters(), lr=0.01)\n",
    "\n",
    "# iterate in 5 epochs\n",
    "for epoch in range(5):\n",
    "    # for the beginning of each epoch, create a loss\n",
    "    running_loss = 0\n",
    "    for images, labels in trainloader:\n",
    "        images = images.view(images.shape[0], -1)\n",
    "        # [16, 3:50] add optim zerograd before tranloader\n",
    "        # you have aweights and gradients for the model\n",
    "        # in the beginning of the training gradients will be null because you\n",
    "        #   do not have a computational graph yet.\n",
    "        # first we do a forward prop to calculate the loss\n",
    "        # after we do the backward prop to fill the gradients\n",
    "        #   after that, the gradients will have values.\n",
    "        # optim.step takes the gradients and update the weights with base on the gradients\n",
    "        #   -> optim.zero_grad will guarantee that gradients are null and\n",
    "        #      avoid vanishing or exploding the weights.\n",
    "        optimizer.zero_grad()\n",
    "        logits = model(images)\n",
    "        loss = criterion(logits, labels)\n",
    "        loss.backward()\n",
    "        optimizer.step()\n",
    "        # increase for every batch\n",
    "        running_loss += loss.item()\n",
    "    else:\n",
    "        print('The running loss is: {}'.format(running_loss/len(trainloader)))\n",
    "\n",
    "# notice that the loss will drop. this is good\n",
    "# the amount of how much the loss drop and how much the model learns\n",
    "# depends on the learning rate (second line of code on this block)"
   ]
  },
  {
   "cell_type": "code",
   "execution_count": null,
   "id": "f3582075",
   "metadata": {},
   "outputs": [],
   "source": []
  }
 ],
 "metadata": {
  "kernelspec": {
   "display_name": "Python 3 (ipykernel)",
   "language": "python",
   "name": "python3"
  },
  "language_info": {
   "codemirror_mode": {
    "name": "ipython",
    "version": 3
   },
   "file_extension": ".py",
   "mimetype": "text/x-python",
   "name": "python",
   "nbconvert_exporter": "python",
   "pygments_lexer": "ipython3",
   "version": "3.8.12"
  }
 },
 "nbformat": 4,
 "nbformat_minor": 5
}
