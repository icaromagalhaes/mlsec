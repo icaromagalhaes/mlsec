{
 "cells": [
  {
   "cell_type": "code",
   "execution_count": 15,
   "id": "bf68dea6",
   "metadata": {},
   "outputs": [],
   "source": [
    "import torch, torchvision\n",
    "from torchvision import transforms\n",
    "import matplotlib.pyplot as plt\n",
    "\n",
    "from torch import nn, optim"
   ]
  },
  {
   "cell_type": "code",
   "execution_count": 10,
   "id": "daddfea1",
   "metadata": {},
   "outputs": [],
   "source": [
    "# refer to previous notebooks to details\n",
    "transform = transforms.Compose([transforms.ToTensor()])\n",
    "trainset = torchvision.datasets.MNIST(root=\"./data\", train=True, transform=transform, download=True)\n",
    "trainloader = torch.utils.data.DataLoader(trainset, batch_size=64, shuffle=True)"
   ]
  },
  {
   "cell_type": "code",
   "execution_count": 4,
   "id": "92e7393f",
   "metadata": {},
   "outputs": [],
   "source": [
    "class Net(nn.Module):\n",
    "    def __init__(self):\n",
    "        super().__init__()\n",
    "        # use a linear layer, please refer to docs to understand params\n",
    "        self.hidden = nn.Linear(28*28, 512)\n",
    "        # output layer's input should match hidden layer's output (512)\n",
    "        # mnist contains 10 classes. thats why output is 10\n",
    "        self.output = nn.Linear(512, 10)\n",
    "        \n",
    "        # we will use softmax activation function to give probability distributed across K classes\n",
    "        # softmax is gonna be activation funciton for the output layer\n",
    "        # while sigmoid is gonna be used for hidden layers \n",
    "\n",
    "        # lets use the imported sigmoid from nn module\n",
    "        self.sigmoid = nn.Sigmoid()\n",
    "        \n",
    "        # refer to LogSoftmax docs to understand difference from Softmax and dim parameter\n",
    "        self.softmax = nn.LogSoftmax(dim=1)\n",
    "    \n",
    "    def forward(self, x):\n",
    "        # just thread last x on activation functions\n",
    "        x = self.hidden(x)\n",
    "        # pipe the output of the hidden in the sigmoid activation function\n",
    "        x = self.sigmoid(x)\n",
    "        x = self.output(x)\n",
    "        x = self.softmax(x)\n",
    "        \n",
    "        return x"
   ]
  },
  {
   "cell_type": "code",
   "execution_count": 5,
   "id": "493dd70e",
   "metadata": {},
   "outputs": [],
   "source": [
    "model = Net()"
   ]
  },
  {
   "cell_type": "code",
   "execution_count": 6,
   "id": "f20070d2",
   "metadata": {},
   "outputs": [
    {
     "data": {
      "text/plain": [
       "Net(\n",
       "  (hidden): Linear(in_features=784, out_features=512, bias=True)\n",
       "  (output): Linear(in_features=512, out_features=10, bias=True)\n",
       "  (sigmoid): Sigmoid()\n",
       "  (softmax): LogSoftmax(dim=1)\n",
       ")"
      ]
     },
     "execution_count": 6,
     "metadata": {},
     "output_type": "execute_result"
    }
   ],
   "source": [
    "model"
   ]
  },
  {
   "cell_type": "code",
   "execution_count": 8,
   "id": "84be9a90",
   "metadata": {},
   "outputs": [],
   "source": [
    "# to calculate the loss, follow the pytorch convention (criterion)\n",
    "criterion = nn.NLLLoss()"
   ]
  },
  {
   "cell_type": "code",
   "execution_count": 11,
   "id": "4aa1365a",
   "metadata": {},
   "outputs": [],
   "source": [
    "images, labels = next(iter(trainloader))"
   ]
  },
  {
   "cell_type": "code",
   "execution_count": 13,
   "id": "c75b0cb0",
   "metadata": {},
   "outputs": [
    {
     "data": {
      "text/plain": [
       "tensor(2.3321, grad_fn=<NllLossBackward0>)"
      ]
     },
     "execution_count": 13,
     "metadata": {},
     "output_type": "execute_result"
    }
   ],
   "source": [
    "# -1 means pytorch flatten\n",
    "images = images.view(images.shape[0], -1)\n",
    "# log probability for output\n",
    "logits = model(images)\n",
    "loss = criterion(logits, labels)\n",
    "# get the loss and the computational graph (negative log likelyhood loss)\n",
    "loss"
   ]
  },
  {
   "cell_type": "code",
   "execution_count": 14,
   "id": "c7cc9e59",
   "metadata": {},
   "outputs": [],
   "source": [
    "# to do the backward\n",
    "loss.backward()\n",
    "# pytorch calculates the backwards and calculate gradients"
   ]
  },
  {
   "cell_type": "code",
   "execution_count": 16,
   "id": "9a201f91",
   "metadata": {},
   "outputs": [],
   "source": [
    "# to update weights, use optimizers\n",
    "optimizer = optim.SGD(model.parameters(), lr=0.01)"
   ]
  },
  {
   "cell_type": "code",
   "execution_count": 17,
   "id": "2860c5b1",
   "metadata": {},
   "outputs": [],
   "source": [
    "optimizer.step()"
   ]
  },
  {
   "cell_type": "code",
   "execution_count": 18,
   "id": "67ac5a73",
   "metadata": {},
   "outputs": [],
   "source": [
    "# we have finished the first epoch\n",
    "# forward prop\n",
    "# -> calculate loss\n",
    "# -> backward prop to get gradients\n",
    "# -> use gradients to get weights"
   ]
  },
  {
   "cell_type": "code",
   "execution_count": null,
   "id": "f7e974a4",
   "metadata": {},
   "outputs": [],
   "source": []
  }
 ],
 "metadata": {
  "kernelspec": {
   "display_name": "Python 3 (ipykernel)",
   "language": "python",
   "name": "python3"
  },
  "language_info": {
   "codemirror_mode": {
    "name": "ipython",
    "version": 3
   },
   "file_extension": ".py",
   "mimetype": "text/x-python",
   "name": "python",
   "nbconvert_exporter": "python",
   "pygments_lexer": "ipython3",
   "version": "3.8.12"
  }
 },
 "nbformat": 4,
 "nbformat_minor": 5
}
