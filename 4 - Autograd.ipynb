{
 "cells": [
  {
   "cell_type": "code",
   "execution_count": 1,
   "id": "2f03c33c",
   "metadata": {},
   "outputs": [],
   "source": [
    "import torch"
   ]
  },
  {
   "cell_type": "code",
   "execution_count": 2,
   "id": "62fbe303",
   "metadata": {},
   "outputs": [],
   "source": [
    "x = torch.randn((1,5), requires_grad=True)"
   ]
  },
  {
   "cell_type": "code",
   "execution_count": 3,
   "id": "e9f2fd66",
   "metadata": {},
   "outputs": [
    {
     "data": {
      "text/plain": [
       "tensor([[-0.3796,  1.6146,  1.0180, -2.1651, -0.7008]], requires_grad=True)"
      ]
     },
     "execution_count": 3,
     "metadata": {},
     "output_type": "execute_result"
    }
   ],
   "source": [
    "x"
   ]
  },
  {
   "cell_type": "code",
   "execution_count": 4,
   "id": "d3eb3c15",
   "metadata": {},
   "outputs": [],
   "source": [
    "b = x + 2"
   ]
  },
  {
   "cell_type": "code",
   "execution_count": 5,
   "id": "3fcf1d74",
   "metadata": {},
   "outputs": [
    {
     "data": {
      "text/plain": [
       "tensor([[ 1.6204,  3.6146,  3.0180, -0.1651,  1.2992]], grad_fn=<AddBackward0>)"
      ]
     },
     "execution_count": 5,
     "metadata": {},
     "output_type": "execute_result"
    }
   ],
   "source": [
    "# notice the grad_fn / Add function with backward prop\n",
    "# computational graph was computed\n",
    "b"
   ]
  },
  {
   "cell_type": "code",
   "execution_count": 6,
   "id": "40a3905c",
   "metadata": {},
   "outputs": [],
   "source": [
    "c = b * 2"
   ]
  },
  {
   "cell_type": "code",
   "execution_count": 7,
   "id": "7d996a05",
   "metadata": {},
   "outputs": [
    {
     "data": {
      "text/plain": [
       "tensor([[ 3.2409,  7.2292,  6.0359, -0.3302,  2.5984]], grad_fn=<MulBackward0>)"
      ]
     },
     "execution_count": 7,
     "metadata": {},
     "output_type": "execute_result"
    }
   ],
   "source": [
    "# added the mul function\n",
    "c"
   ]
  },
  {
   "cell_type": "code",
   "execution_count": 8,
   "id": "74654b5a",
   "metadata": {},
   "outputs": [],
   "source": [
    "c = c.mean()"
   ]
  },
  {
   "cell_type": "code",
   "execution_count": 9,
   "id": "734e78d6",
   "metadata": {},
   "outputs": [
    {
     "data": {
      "text/plain": [
       "tensor(3.7548, grad_fn=<MeanBackward0>)"
      ]
     },
     "execution_count": 9,
     "metadata": {},
     "output_type": "execute_result"
    }
   ],
   "source": [
    "# added the mean\n",
    "c"
   ]
  },
  {
   "cell_type": "code",
   "execution_count": 10,
   "id": "47542c4e",
   "metadata": {},
   "outputs": [],
   "source": [
    "# there is nothing before the backward propagation\n",
    "x.grad"
   ]
  },
  {
   "cell_type": "code",
   "execution_count": 11,
   "id": "28b5f2f2",
   "metadata": {},
   "outputs": [],
   "source": [
    "# to do a backward prop\n",
    "c.backward()"
   ]
  },
  {
   "cell_type": "code",
   "execution_count": 12,
   "id": "6aecbd90",
   "metadata": {},
   "outputs": [
    {
     "data": {
      "text/plain": [
       "tensor([[0.4000, 0.4000, 0.4000, 0.4000, 0.4000]])"
      ]
     },
     "execution_count": 12,
     "metadata": {},
     "output_type": "execute_result"
    }
   ],
   "source": [
    "# now there is a grad\n",
    "x.grad"
   ]
  },
  {
   "cell_type": "code",
   "execution_count": null,
   "id": "82a1fd35",
   "metadata": {},
   "outputs": [],
   "source": []
  }
 ],
 "metadata": {
  "kernelspec": {
   "display_name": "Python 3 (ipykernel)",
   "language": "python",
   "name": "python3"
  },
  "language_info": {
   "codemirror_mode": {
    "name": "ipython",
    "version": 3
   },
   "file_extension": ".py",
   "mimetype": "text/x-python",
   "name": "python",
   "nbconvert_exporter": "python",
   "pygments_lexer": "ipython3",
   "version": "3.8.12"
  }
 },
 "nbformat": 4,
 "nbformat_minor": 5
}
