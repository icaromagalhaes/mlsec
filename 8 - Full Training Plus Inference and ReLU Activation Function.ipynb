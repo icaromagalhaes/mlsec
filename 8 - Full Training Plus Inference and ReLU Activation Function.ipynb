{
 "cells": [
  {
   "cell_type": "code",
   "execution_count": 2,
   "id": "bf68dea6",
   "metadata": {},
   "outputs": [],
   "source": [
    "import torch, torchvision\n",
    "from torchvision import transforms\n",
    "import matplotlib.pyplot as plt\n",
    "\n",
    "from torch import nn, optim"
   ]
  },
  {
   "cell_type": "code",
   "execution_count": 26,
   "id": "daddfea1",
   "metadata": {},
   "outputs": [],
   "source": [
    "# refer to previous notebooks to details\n",
    "transform = transforms.Compose([transforms.ToTensor()])\n",
    "trainset = torchvision.datasets.MNIST(root=\"./data\", train=True, transform=transform, download=True)\n",
    "trainloader = torch.utils.data.DataLoader(trainset, batch_size=64, shuffle=True)"
   ]
  },
  {
   "cell_type": "code",
   "execution_count": 27,
   "id": "92e7393f",
   "metadata": {},
   "outputs": [],
   "source": [
    "class Net(nn.Module):\n",
    "    def __init__(self):\n",
    "        super().__init__()\n",
    "        self.hidden = nn.Linear(28*28, 512)\n",
    "        self.output = nn.Linear(512, 10)\n",
    "        \n",
    "        # now, using the ReLU activation function\n",
    "        self.relu = nn.ReLU()\n",
    "\n",
    "        self.softmax = nn.LogSoftmax(dim=1)\n",
    "    \n",
    "    def forward(self, x):\n",
    "        # just thread last x on activation functions\n",
    "        x = self.hidden(x)\n",
    "        # pipe the output of the hidden in the sigmoid activation function\n",
    "        x = self.relu(x)\n",
    "        x = self.output(x)\n",
    "        x = self.softmax(x)\n",
    "        \n",
    "        return x"
   ]
  },
  {
   "cell_type": "code",
   "execution_count": 28,
   "id": "493dd70e",
   "metadata": {},
   "outputs": [],
   "source": [
    "model = Net()"
   ]
  },
  {
   "cell_type": "code",
   "execution_count": 29,
   "id": "f20070d2",
   "metadata": {},
   "outputs": [
    {
     "data": {
      "text/plain": [
       "Net(\n",
       "  (hidden): Linear(in_features=784, out_features=512, bias=True)\n",
       "  (output): Linear(in_features=512, out_features=10, bias=True)\n",
       "  (relu): ReLU()\n",
       "  (softmax): LogSoftmax(dim=1)\n",
       ")"
      ]
     },
     "execution_count": 29,
     "metadata": {},
     "output_type": "execute_result"
    }
   ],
   "source": [
    "model"
   ]
  },
  {
   "cell_type": "code",
   "execution_count": 30,
   "id": "84be9a90",
   "metadata": {},
   "outputs": [
    {
     "name": "stdout",
     "output_type": "stream",
     "text": [
      "The running loss is: 1.1842526881806632\n",
      "The running loss is: 0.4784904756684547\n",
      "The running loss is: 0.3834437082158223\n",
      "The running loss is: 0.3439320391461031\n",
      "The running loss is: 0.318992028771433\n"
     ]
    }
   ],
   "source": [
    "criterion = nn.NLLLoss()\n",
    "optimizer = optim.SGD(model.parameters(), lr=0.01)\n",
    "\n",
    "for epoch in range(5):\n",
    "    running_loss = 0\n",
    "    for images, labels in trainloader:\n",
    "        number_of_batches = images.shape[0]\n",
    "        # [17,4:30] to understand \"-1\"\n",
    "        images = images.view(number_of_batches, -1)\n",
    "        optimizer.zero_grad()\n",
    "        logits = model(images)\n",
    "        loss = criterion(logits, labels)\n",
    "        loss.backward()\n",
    "        optimizer.step()\n",
    "        # increase for every batch\n",
    "        running_loss += loss.item()\n",
    "    else:\n",
    "        print('The running loss is: {}'.format(running_loss/len(trainloader)))\n",
    "\n",
    "# with the ReLU activation function the loss will drop even more\n",
    "# idk why, will try to understand"
   ]
  },
  {
   "cell_type": "code",
   "execution_count": 10,
   "id": "8f3a745c",
   "metadata": {},
   "outputs": [],
   "source": [
    "# how to do an inference (what the model is going to predict?):"
   ]
  },
  {
   "cell_type": "code",
   "execution_count": 31,
   "id": "47a13883",
   "metadata": {},
   "outputs": [],
   "source": [
    "images, labels = next(iter(trainloader))"
   ]
  },
  {
   "cell_type": "code",
   "execution_count": 32,
   "id": "39907186",
   "metadata": {},
   "outputs": [
    {
     "data": {
      "image/png": "[encoded data removed]",
      "text/plain": [
       "<Figure size 432x288 with 1 Axes>"
      ]
     },
     "metadata": {
      "needs_background": "light"
     },
     "output_type": "display_data"
    }
   ],
   "source": [
    "# just want a single image, use 1 instead num of batches\n",
    "raw_image = images[0]\n",
    "\n",
    "# lets doublecheck visualizing the image using matplotlib\n",
    "# img = images[0].view(1, -1) is shaped as a tensor, does not work\n",
    "# we need the real image without being an 1D (unidimensional) vector\n",
    "\n",
    "plt.imshow(raw_image.numpy().squeeze(), cmap='Greys_r')\n",
    "\n",
    "img = raw_image.view(1, -1)"
   ]
  },
  {
   "cell_type": "code",
   "execution_count": 33,
   "id": "97c0afb1",
   "metadata": {},
   "outputs": [
    {
     "data": {
      "text/plain": [
       "tensor([[-12.3685,  -0.0482,  -4.6147,  -5.2147,  -7.3187,  -8.2283,  -8.7279,\n",
       "          -4.2901,  -4.2326,  -6.0458]], grad_fn=<LogSoftmaxBackward0>)"
      ]
     },
     "execution_count": 33,
     "metadata": {},
     "output_type": "execute_result"
    }
   ],
   "source": [
    "model(img)"
   ]
  },
  {
   "cell_type": "code",
   "execution_count": 34,
   "id": "f65f369d",
   "metadata": {},
   "outputs": [],
   "source": [
    "# without the gradients\n",
    "with torch.no_grad():\n",
    "    logprobs = model(img)"
   ]
  },
  {
   "cell_type": "code",
   "execution_count": 35,
   "id": "499d3b47",
   "metadata": {},
   "outputs": [
    {
     "data": {
      "text/plain": [
       "tensor([[-12.3685,  -0.0482,  -4.6147,  -5.2147,  -7.3187,  -8.2283,  -8.7279,\n",
       "          -4.2901,  -4.2326,  -6.0458]])"
      ]
     },
     "execution_count": 35,
     "metadata": {},
     "output_type": "execute_result"
    }
   ],
   "source": [
    "# this is the model output after the whole pipeline run\n",
    "logprobs"
   ]
  },
  {
   "cell_type": "code",
   "execution_count": 36,
   "id": "6dc2bc9e",
   "metadata": {},
   "outputs": [
    {
     "data": {
      "text/plain": [
       "LogSoftmax(\n",
       "  dim=tensor([[-12.3685,  -0.0482,  -4.6147,  -5.2147,  -7.3187,  -8.2283,  -8.7279,\n",
       "            -4.2901,  -4.2326,  -6.0458]])\n",
       ")"
      ]
     },
     "execution_count": 36,
     "metadata": {},
     "output_type": "execute_result"
    }
   ],
   "source": [
    "# double check:\n",
    "# notice that is the same from above\n",
    "nn.LogSoftmax(logprobs)"
   ]
  },
  {
   "cell_type": "code",
   "execution_count": 37,
   "id": "01a4ea97",
   "metadata": {},
   "outputs": [
    {
     "data": {
      "text/plain": [
       "tensor([[4.2504e-06, 9.5298e-01, 9.9052e-03, 5.4360e-03, 6.6304e-04, 2.6700e-04,\n",
       "         1.6200e-04, 1.3703e-02, 1.4515e-02, 2.3678e-03]])"
      ]
     },
     "execution_count": 37,
     "metadata": {},
     "output_type": "execute_result"
    }
   ],
   "source": [
    "# the values above are not the probabilities, but the output of the model\n",
    "# to get the real probs:\n",
    "torch.exp(logprobs)"
   ]
  },
  {
   "cell_type": "code",
   "execution_count": 38,
   "id": "cef12bee",
   "metadata": {},
   "outputs": [
    {
     "data": {
      "text/plain": [
       "tensor(1.0000)"
      ]
     },
     "execution_count": 38,
     "metadata": {},
     "output_type": "execute_result"
    }
   ],
   "source": [
    "# all added should sum to 1 (prob)\n",
    "torch.sum(torch.exp(logprobs))"
   ]
  },
  {
   "cell_type": "code",
   "execution_count": 39,
   "id": "404fb9e3",
   "metadata": {},
   "outputs": [
    {
     "data": {
      "text/plain": [
       "tensor([[4.2504e-06, 9.5298e-01, 9.9052e-03, 5.4360e-03, 6.6304e-04, 2.6700e-04,\n",
       "         1.6200e-04, 1.3703e-02, 1.4515e-02, 2.3678e-03]])"
      ]
     },
     "execution_count": 39,
     "metadata": {},
     "output_type": "execute_result"
    }
   ],
   "source": [
    "# ok, now, keep track of it\n",
    "probs = torch.exp(logprobs)\n",
    "probs"
   ]
  },
  {
   "cell_type": "code",
   "execution_count": 41,
   "id": "ef21aa8a",
   "metadata": {},
   "outputs": [
    {
     "data": {
      "text/plain": [
       "tensor(1)"
      ]
     },
     "execution_count": 41,
     "metadata": {},
     "output_type": "execute_result"
    }
   ],
   "source": [
    "# what is the highest probability?\n",
    "# we want the INDEX of the highest probabilities.\n",
    "# every index represents a class, we have TEN (10)\n",
    "# every index represents a probability of a class (0 to 10, between 0 and 1 each)\n",
    "\n",
    "# get the index of the highest\n",
    "torch.argmax(probs)"
   ]
  },
  {
   "cell_type": "code",
   "execution_count": null,
   "id": "a642b733",
   "metadata": {},
   "outputs": [],
   "source": [
    "# the image should match the tensor class with base\n",
    "# in the given probability (after the training epochs)"
   ]
  }
 ],
 "metadata": {
  "kernelspec": {
   "display_name": "Python 3 (ipykernel)",
   "language": "python",
   "name": "python3"
  },
  "language_info": {
   "codemirror_mode": {
    "name": "ipython",
    "version": 3
   },
   "file_extension": ".py",
   "mimetype": "text/x-python",
   "name": "python",
   "nbconvert_exporter": "python",
   "pygments_lexer": "ipython3",
   "version": "3.8.12"
  }
 },
 "nbformat": 4,
 "nbformat_minor": 5
}
